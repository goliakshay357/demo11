{
 "cells": [
  {
   "cell_type": "code",
   "execution_count": 2,
   "metadata": {},
   "outputs": [
    {
     "ename": "ImportError",
     "evalue": "Keras requires TensorFlow 2.2 or higher. Install TensorFlow via `pip install tensorflow`",
     "output_type": "error",
     "traceback": [
      "\u001b[0;31m---------------------------------------------------------------------------\u001b[0m",
      "\u001b[0;31mModuleNotFoundError\u001b[0m                       Traceback (most recent call last)",
      "\u001b[0;32m~/.local/lib/python3.6/site-packages/keras/__init__.py\u001b[0m in \u001b[0;36m<module>\u001b[0;34m\u001b[0m\n\u001b[1;32m      2\u001b[0m \u001b[0;32mtry\u001b[0m\u001b[0;34m:\u001b[0m\u001b[0;34m\u001b[0m\u001b[0;34m\u001b[0m\u001b[0m\n\u001b[0;32m----> 3\u001b[0;31m     \u001b[0;32mfrom\u001b[0m \u001b[0mtensorflow\u001b[0m\u001b[0;34m.\u001b[0m\u001b[0mkeras\u001b[0m\u001b[0;34m.\u001b[0m\u001b[0mlayers\u001b[0m\u001b[0;34m.\u001b[0m\u001b[0mexperimental\u001b[0m\u001b[0;34m.\u001b[0m\u001b[0mpreprocessing\u001b[0m \u001b[0;32mimport\u001b[0m \u001b[0mRandomRotation\u001b[0m\u001b[0;34m\u001b[0m\u001b[0;34m\u001b[0m\u001b[0m\n\u001b[0m\u001b[1;32m      4\u001b[0m \u001b[0;32mexcept\u001b[0m \u001b[0mImportError\u001b[0m\u001b[0;34m:\u001b[0m\u001b[0;34m\u001b[0m\u001b[0;34m\u001b[0m\u001b[0m\n",
      "\u001b[0;31mModuleNotFoundError\u001b[0m: No module named 'tensorflow.keras.layers.experimental.preprocessing'",
      "\nDuring handling of the above exception, another exception occurred:\n",
      "\u001b[0;31mImportError\u001b[0m                               Traceback (most recent call last)",
      "\u001b[0;32m<ipython-input-2-11a2f4bd6283>\u001b[0m in \u001b[0;36m<module>\u001b[0;34m\u001b[0m\n\u001b[1;32m      8\u001b[0m \u001b[0;32mfrom\u001b[0m \u001b[0mnumpy\u001b[0m \u001b[0;32mimport\u001b[0m \u001b[0marray\u001b[0m\u001b[0;34m\u001b[0m\u001b[0;34m\u001b[0m\u001b[0m\n\u001b[1;32m      9\u001b[0m \u001b[0;32mfrom\u001b[0m \u001b[0mnumpy\u001b[0m \u001b[0;32mimport\u001b[0m \u001b[0mcumsum\u001b[0m\u001b[0;34m\u001b[0m\u001b[0;34m\u001b[0m\u001b[0m\n\u001b[0;32m---> 10\u001b[0;31m \u001b[0;32mfrom\u001b[0m \u001b[0mkeras\u001b[0m\u001b[0;34m.\u001b[0m\u001b[0mmodels\u001b[0m \u001b[0;32mimport\u001b[0m \u001b[0mSequential\u001b[0m\u001b[0;34m\u001b[0m\u001b[0;34m\u001b[0m\u001b[0m\n\u001b[0m\u001b[1;32m     11\u001b[0m \u001b[0;32mfrom\u001b[0m \u001b[0mkeras\u001b[0m\u001b[0;34m.\u001b[0m\u001b[0mlayers\u001b[0m \u001b[0;32mimport\u001b[0m \u001b[0mLSTM\u001b[0m\u001b[0;34m\u001b[0m\u001b[0;34m\u001b[0m\u001b[0m\n\u001b[1;32m     12\u001b[0m \u001b[0;32mfrom\u001b[0m \u001b[0mkeras\u001b[0m\u001b[0;34m.\u001b[0m\u001b[0mlayers\u001b[0m \u001b[0;32mimport\u001b[0m \u001b[0mDense\u001b[0m\u001b[0;34m\u001b[0m\u001b[0;34m\u001b[0m\u001b[0m\n",
      "\u001b[0;32m~/.local/lib/python3.6/site-packages/keras/__init__.py\u001b[0m in \u001b[0;36m<module>\u001b[0;34m\u001b[0m\n\u001b[1;32m      4\u001b[0m \u001b[0;32mexcept\u001b[0m \u001b[0mImportError\u001b[0m\u001b[0;34m:\u001b[0m\u001b[0;34m\u001b[0m\u001b[0;34m\u001b[0m\u001b[0m\n\u001b[1;32m      5\u001b[0m     raise ImportError(\n\u001b[0;32m----> 6\u001b[0;31m         \u001b[0;34m'Keras requires TensorFlow 2.2 or higher. '\u001b[0m\u001b[0;34m\u001b[0m\u001b[0;34m\u001b[0m\u001b[0m\n\u001b[0m\u001b[1;32m      7\u001b[0m         'Install TensorFlow via `pip install tensorflow`')\n\u001b[1;32m      8\u001b[0m \u001b[0;34m\u001b[0m\u001b[0m\n",
      "\u001b[0;31mImportError\u001b[0m: Keras requires TensorFlow 2.2 or higher. Install TensorFlow via `pip install tensorflow`"
     ]
    }
   ],
   "source": [
    "import sys\n",
    "sys.executable\n",
    "sys.path.append('/home/sai/miniconda3/envs/depth_model/bin/python')\n",
    "sys.executable\n",
    "import numpy as np\n",
    "import pandas as pd\n",
    "from random import random\n",
    "from numpy import array\n",
    "from numpy import cumsum\n",
    "from keras.models import Sequential\n",
    "from keras.layers import LSTM\n",
    "from keras.layers import Dense\n",
    "from keras.layers import Flatten\n",
    "from keras.layers import TimeDistributed"
   ]
  },
  {
   "cell_type": "code",
   "execution_count": 2,
   "metadata": {},
   "outputs": [],
   "source": [
    "bool_array_for=[0]*11\n",
    "prev_correct_point=-1\n",
    "def first_check(probs,labels,x):\n",
    "  global bool_array_for\n",
    "  bool_array_for=[0]*11\n",
    "  i=1\n",
    "  for l in range(len(probs)):\n",
    "    if(probs[l]==1):\n",
    "        bool_array_for[l]=labels[l]\n",
    "        i=l+1\n",
    "    else:\n",
    "        break\n",
    "  x=list(x.reshape(1,len(x))[0])\n",
    "  #x=list(noise_data['percent'])\n",
    "  #y=list(noise_data['date'])\n",
    "  if(bool_array_for[i-1]==2 and prev_correct_point!=-1):\n",
    "        x[i-1]=prev_correct_point\n",
    "  j=1\n",
    "  # 0 for normal\n",
    "  # 1 for refill\n",
    "  # 2 for noise\n",
    "  # abs(x[i]-x[i-1])>=2 This is for checking if its peak or just x[i] ~ x[i-1]\n",
    "  while(i<(len(x)-6)):\n",
    "    if( (x[i]>x[i-1] ) and abs(x[i+1]-x[i-1])<=2  and abs(x[i]-x[i-1])>=5 ) : \n",
    "        bool_array_for[j]=2\n",
    "        x.pop(i)\n",
    "        #y.pop(i)\n",
    "        i-=1\n",
    "        \n",
    "    elif(  (x[i]<x[i-1] ) and abs(x[i+1]-x[i-1])<=2  and abs(x[i]-x[i-1])>=5 ) : \n",
    "        bool_array_for[j]=2\n",
    "        x.pop(i)\n",
    "        #y.pop(i)\n",
    "        i-=1\n",
    "        \n",
    "    elif(  x[i]>x[i-1] and  abs(x[i+2]-x[i-1])<=2 and abs(x[i]-x[i-1])>=5  ) : \n",
    "        bool_array_for[j]=2\n",
    "        x.pop(i)\n",
    "        #y.pop(i)\n",
    "        i-=1\n",
    "        \n",
    "    elif(  x[i]<x[i-1] and  abs(x[i+2]-x[i-1])<=2 and abs(x[i]-x[i-1])>=5  ) : \n",
    "        bool_array_for[j]=2\n",
    "        x.pop(i)\n",
    "        #y.pop(i)\n",
    "        i-=1\n",
    "        #continue\n",
    " \n",
    "    elif(  x[i]>x[i-1] and  abs(x[i+3]-x[i-1] <=2) and abs(x[i]-x[i-1])>=5) : \n",
    "        bool_array_for[j]=2\n",
    "        x.pop(i)\n",
    "        #y.pop(i)\n",
    "        i-=1\n",
    "        #continue\n",
    "    elif( x[i]<x[i-1] and abs(x[i+3]-x[i-1] <=2) and abs(x[i]-x[i-1])>=5) : \n",
    "        bool_array_for[j]=2\n",
    "        x.pop(i)\n",
    "        #y.pop(i)\n",
    "        i-=1\n",
    "        #continue\n",
    "    elif(  x[i]<x[i-1] and  abs(x[i+4]-x[i-1])<=2 and abs(x[i]-x[i-1])>=5) : \n",
    "        bool_array_for[j]=2\n",
    "        x.pop(i)\n",
    "        #y.pop(i)\n",
    "        i-=1\n",
    "        #continue\n",
    "    elif(  x[i]>x[i-1] and  abs(x[i+4]-x[i-1])<=2 and abs(x[i]-x[i-1])>=5) : \n",
    "        bool_array_for[j]=2\n",
    "        x.pop(i)\n",
    "        #y.pop(i)\n",
    "        i-=1\n",
    "        #continue\n",
    "    \n",
    "    \n",
    "    elif(  x[i]>x[i-1] and abs(x[i+5]-x[i-1])<=2 and abs(x[i]-x[i-1])>=5) : \n",
    "        bool_array_for[j]=2\n",
    "        x.pop(i)\n",
    "        #y.pop(i)\n",
    "        i-=1\n",
    "        #continue\n",
    "    elif(  x[i]<x[i-1] and  abs(x[i+5]-x[i-1])<=2 and abs(x[i]-x[i-1])>=5) : \n",
    "        bool_array_for[j]=2\n",
    "        x.pop(i)\n",
    "        #y.pop(i)\n",
    "        i-=1\n",
    "        #continue    \n",
    "    elif(  x[i]>x[i-1] and abs(x[i+6]-x[i-1])<=2 and abs(x[i]-x[i-1])>=5) : \n",
    "        bool_array_for[j]=2\n",
    "        x.pop(i)\n",
    "        #y.pop(i)\n",
    "        i-=1\n",
    "        #continue\n",
    "    elif(  x[i]<x[i-1] and abs(x[i+6]-x[i-1])<=2 and abs(x[i]-x[i-1])>=5) : \n",
    "        bool_array_for[j]=2\n",
    "        x.pop(i)\n",
    "        #y.pop(i)\n",
    "        i-=1\n",
    "        #continue    \n",
    "#     elif((len(x)-i)>=7 and x[i]>x[i-1] and abs(x[i+7]-x[i-1])<=2 and abs(x[i]-x[i-1])>=5):\n",
    "#          bool_array_for[j]=2\n",
    "#          x.pop(i)\n",
    "#          i-=1\n",
    "        \n",
    "#     elif( (len(x)-i)>=7 and x[i]<x[i-1] and abs(x[i+7]-x[i-1])<=2 and abs(x[i]-x[i-1])>=5) : \n",
    "#          bool_array_for[j]=2\n",
    "#          x.pop(i)\n",
    "#          i-=1\n",
    "        \n",
    "    elif(x[i]-x[i-1]>5):\n",
    "        bool_array_for[j]=1\n",
    "    \n",
    "    \n",
    "        \n",
    "    i+=1    \n",
    "    j+=1\n",
    "    print(bool_array_for)\n",
    "    "
   ]
  },
  {
   "cell_type": "code",
   "execution_count": 3,
   "metadata": {},
   "outputs": [
    {
     "name": "stdout",
     "output_type": "stream",
     "text": [
      "Loaded model from disk\n"
     ]
    }
   ],
   "source": [
    "from keras.models import model_from_json\n",
    "\n",
    "json_file = open('model.json', 'r')\n",
    "loaded_model_json = json_file.read()\n",
    "json_file.close()\n",
    "loaded_model = model_from_json(loaded_model_json)\n",
    "# load weights into new model\n",
    "loaded_model.load_weights(\"model.h5\")\n",
    "print(\"Loaded model from disk\")\n",
    "#yhat = loaded_model.predict_classes(X_test, verbose=0)\n",
    "#for i in range(n_timesteps):\n",
    "#    print('Expected:',Y_test[0, i], 'Predicted', yhat[0, i])"
   ]
  },
  {
   "cell_type": "code",
   "execution_count": 4,
   "metadata": {},
   "outputs": [],
   "source": [
    "prev_pred=[[0 ,0, 0]]*11\n",
    "count=[[0 ,0, 0]]*11\n",
    "def prediction(probs,labels,percent):\n",
    "    global prev_correct_point\n",
    "    x_old=[i for i in percent]\n",
    "    for i in range(10):\n",
    "        prev_pred[i]=prev_pred[i+1]\n",
    "        count[i]=count[i+1]\n",
    "    prev_pred[10]=[0, 0, 0]\n",
    "    count[10]=[0, 0, 0]\n",
    "    model_classes=loaded_model.predict_classes(percent.reshape(1,11,1), verbose=0)[0]\n",
    "    model_pred=loaded_model.predict(percent.reshape(1,11,1), verbose=0)[0]\n",
    "    count[10][model_classes[10]]+=1\n",
    "    first_check(probs,labels,percent)\n",
    "    new_labels=[]\n",
    "    new_probs=[]\n",
    "    \n",
    "    for i in range(len(x_old)):\n",
    "        prev_pred[i][model_classes[i]]=((prev_pred[i][model_classes[i]])*(count[i][model_classes[i]])+model_pred[i][model_classes[i]])/(count[i][model_classes[i]]+1)\n",
    "        count[i][model_classes[i]]+=1\n",
    "        sumi=count[i][0]+count[i][1]+count[i][2]\n",
    "        final_0=((model_pred[i][0]))\n",
    "        final_1=((model_pred[i][1]))\n",
    "        final_2=((model_pred[i][2]))\n",
    "        print(prev_pred[i][0])\n",
    "        if(bool_array_for[i] !=0):\n",
    "         if(i<5):\n",
    "             new_labels.append(bool_array_for[i])\n",
    "             new_probs.append(1)\n",
    "             if(bool_array_for[i]==1):\n",
    "                    prev_correct_point=x_old[i]\n",
    "         else: \n",
    "          if(final_0>final_1):\n",
    "                if(final_0>final_2):\n",
    "                    new_labels.append(0)\n",
    "                else:\n",
    "                    new_labels.append(2)\n",
    "          else:\n",
    "            if(final_1>final_2):\n",
    "                new_labels.append(1) \n",
    "            else:\n",
    "                new_labels.append(2)\n",
    "          new_probs.append(prev_pred[i][new_labels[i]])\n",
    "        if(bool_array_for[i]==0):\n",
    "            if(i<5):\n",
    "             new_labels.append(0)\n",
    "             new_probs.append(1)\n",
    "             prev_correct_point=x_old[i]\n",
    "            else:\n",
    "             if(final_0>final_1):\n",
    "                if(final_0>final_2):\n",
    "                    new_labels.append(0)\n",
    "                else:\n",
    "                    new_labels.append(2)\n",
    "             else:\n",
    "               if(final_1>final_2):\n",
    "                new_labels.append(1) \n",
    "               else:\n",
    "                new_labels.append(2)\n",
    "             new_probs.append(prev_pred[i][new_labels[i]])\n",
    "    return (new_labels,new_probs)                "
   ]
  },
  {
   "cell_type": "code",
   "execution_count": 5,
   "metadata": {},
   "outputs": [],
   "source": [
    "df=pd.read_csv('Synthetic_Train_Data.csv')\n",
    "df=df.drop(columns=['Unnamed: 0.1'])"
   ]
  },
  {
   "cell_type": "code",
   "execution_count": 6,
   "metadata": {},
   "outputs": [],
   "source": [
    "X=[]\n",
    "for i in range(df.shape[0]):\n",
    "    X.append([])\n",
    "    for j in range(11):\n",
    "        X[i].append(df[df.columns[j+1]][i])\n",
    "Y=[]\n",
    "for i in range(df.shape[0]):\n",
    "    Y.append([])\n",
    "    for j in range(11):\n",
    "        Y[i].append(df[df.columns[11+j+1]][i])"
   ]
  },
  {
   "cell_type": "code",
   "execution_count": 7,
   "metadata": {},
   "outputs": [],
   "source": [
    "for i in range(len(Y[0])):\n",
    "    for j in range(len(Y)):\n",
    "        if(Y[j][i] ==0):\n",
    "            Y[j][i]=[1,0,0]\n",
    "        elif(Y[j][i] ==1):\n",
    "            Y[j][i]=[0,1,0]\n",
    "        elif(Y[j][i] ==2):\n",
    "            Y[j][i]=[0,0,1]"
   ]
  },
  {
   "cell_type": "code",
   "execution_count": 8,
   "metadata": {},
   "outputs": [],
   "source": [
    "X=np.array(X)\n",
    "X=X.reshape(X.shape[0],X.shape[1],1)\n",
    "Y=np.array(Y)"
   ]
  },
  {
   "cell_type": "code",
   "execution_count": 9,
   "metadata": {},
   "outputs": [],
   "source": [
    "probs=[0]*11\n",
    "labels=[0]*11\n"
   ]
  },
  {
   "cell_type": "code",
   "execution_count": 13,
   "metadata": {},
   "outputs": [
    {
     "name": "stdout",
     "output_type": "stream",
     "text": [
      "[0, 2, 0, 0, 0, 0, 0, 0, 0, 0, 0]\n",
      "[0, 2, 2, 0, 0, 0, 0, 0, 0, 0, 0]\n",
      "[0, 2, 2, 0, 0, 0, 0, 0, 0, 0, 0]\n",
      "[0, 2, 2, 0, 0, 0, 0, 0, 0, 0, 0]\n",
      "0.9970551869448494\n",
      "0.9970551869448494\n",
      "0.9970551869448494\n",
      "0.9971871144241757\n",
      "0.9973351610334296\n",
      "0.997468301653862\n",
      "0.9975888076282683\n",
      "0.9976983747699044\n",
      "0.7488494515419006\n",
      "0.6538743575414022\n",
      "0.49978193640708923\n",
      "([0, 2, 2, 0, 0, 0, 0, 0, 0, 0, 0], [1, 1, 1, 1, 1, 0.997468301653862, 0.9975888076282683, 0.9976983747699044, 0.7488494515419006, 0.6538743575414022, 0.49978193640708923])\n",
      "[0, 2, 2, 0, 0, 0, 0, 0, 0, 0, 0]\n"
     ]
    }
   ],
   "source": [
    "print(prediction(probs,labels,X[201]))\n",
    "print(bool_array_for)"
   ]
  },
  {
   "cell_type": "code",
   "execution_count": 12,
   "metadata": {},
   "outputs": [
    {
     "data": {
      "text/plain": [
       "array([[93.],\n",
       "       [93.],\n",
       "       [36.],\n",
       "       [37.],\n",
       "       [37.],\n",
       "       [37.],\n",
       "       [37.],\n",
       "       [37.],\n",
       "       [37.],\n",
       "       [37.],\n",
       "       [37.]])"
      ]
     },
     "execution_count": 12,
     "metadata": {},
     "output_type": "execute_result"
    }
   ],
   "source": []
  },
  {
   "cell_type": "code",
   "execution_count": 39,
   "metadata": {},
   "outputs": [],
   "source": [
    "prev_pred=[[0 ,0, 0]]*11"
   ]
  },
  {
   "cell_type": "code",
   "execution_count": 43,
   "metadata": {},
   "outputs": [],
   "source": [
    "x_old=[i for i in X[10]]"
   ]
  },
  {
   "cell_type": "code",
   "execution_count": 45,
   "metadata": {},
   "outputs": [
    {
     "data": {
      "text/plain": [
       "11"
      ]
     },
     "execution_count": 45,
     "metadata": {},
     "output_type": "execute_result"
    }
   ],
   "source": [
    "len(x_old)"
   ]
  },
  {
   "cell_type": "code",
   "execution_count": 89,
   "metadata": {},
   "outputs": [
    {
     "data": {
      "text/plain": [
       "[0, 0, 0, 0, 1, 0, 0, 0, 0, 0, 0]"
      ]
     },
     "execution_count": 89,
     "metadata": {},
     "output_type": "execute_result"
    }
   ],
   "source": [
    "bool_array_for"
   ]
  },
  {
   "cell_type": "code",
   "execution_count": 27,
   "metadata": {},
   "outputs": [],
   "source": [
    "json_input=pd.read_json('input.json')"
   ]
  },
  {
   "cell_type": "code",
   "execution_count": 32,
   "metadata": {},
   "outputs": [
    {
     "data": {
      "text/html": [
       "<div>\n",
       "<style scoped>\n",
       "    .dataframe tbody tr th:only-of-type {\n",
       "        vertical-align: middle;\n",
       "    }\n",
       "\n",
       "    .dataframe tbody tr th {\n",
       "        vertical-align: top;\n",
       "    }\n",
       "\n",
       "    .dataframe thead th {\n",
       "        text-align: right;\n",
       "    }\n",
       "</style>\n",
       "<table border=\"1\" class=\"dataframe\">\n",
       "  <thead>\n",
       "    <tr style=\"text-align: right;\">\n",
       "      <th></th>\n",
       "      <th>id</th>\n",
       "      <th>date</th>\n",
       "      <th>percent</th>\n",
       "      <th>label</th>\n",
       "      <th>probability</th>\n",
       "    </tr>\n",
       "  </thead>\n",
       "  <tbody>\n",
       "    <tr>\n",
       "      <th>0</th>\n",
       "      <td>9</td>\n",
       "      <td>2020-01-10 16:47:08+00:00</td>\n",
       "      <td>27</td>\n",
       "      <td>0</td>\n",
       "      <td>0</td>\n",
       "    </tr>\n",
       "    <tr>\n",
       "      <th>1</th>\n",
       "      <td>10</td>\n",
       "      <td>2020-01-10 18:47:13+00:00</td>\n",
       "      <td>26</td>\n",
       "      <td>0</td>\n",
       "      <td>0</td>\n",
       "    </tr>\n",
       "    <tr>\n",
       "      <th>2</th>\n",
       "      <td>11</td>\n",
       "      <td>2020-01-10 20:47:10+00:00</td>\n",
       "      <td>26</td>\n",
       "      <td>0</td>\n",
       "      <td>0</td>\n",
       "    </tr>\n",
       "    <tr>\n",
       "      <th>3</th>\n",
       "      <td>12</td>\n",
       "      <td>2020-01-10 22:47:07+00:00</td>\n",
       "      <td>26</td>\n",
       "      <td>0</td>\n",
       "      <td>0</td>\n",
       "    </tr>\n",
       "    <tr>\n",
       "      <th>4</th>\n",
       "      <td>13</td>\n",
       "      <td>2020-01-11 00:47:07+00:00</td>\n",
       "      <td>27</td>\n",
       "      <td>0</td>\n",
       "      <td>0</td>\n",
       "    </tr>\n",
       "    <tr>\n",
       "      <th>5</th>\n",
       "      <td>14</td>\n",
       "      <td>2020-01-11 04:47:07+00:00</td>\n",
       "      <td>26</td>\n",
       "      <td>0</td>\n",
       "      <td>0</td>\n",
       "    </tr>\n",
       "    <tr>\n",
       "      <th>6</th>\n",
       "      <td>15</td>\n",
       "      <td>2020-01-11 05:47:12+00:00</td>\n",
       "      <td>26</td>\n",
       "      <td>0</td>\n",
       "      <td>0</td>\n",
       "    </tr>\n",
       "    <tr>\n",
       "      <th>7</th>\n",
       "      <td>16</td>\n",
       "      <td>2020-01-11 07:47:07+00:00</td>\n",
       "      <td>26</td>\n",
       "      <td>0</td>\n",
       "      <td>0</td>\n",
       "    </tr>\n",
       "    <tr>\n",
       "      <th>8</th>\n",
       "      <td>17</td>\n",
       "      <td>2020-01-11 08:47:10+00:00</td>\n",
       "      <td>26</td>\n",
       "      <td>0</td>\n",
       "      <td>0</td>\n",
       "    </tr>\n",
       "    <tr>\n",
       "      <th>9</th>\n",
       "      <td>18</td>\n",
       "      <td>2020-01-11 11:47:07+00:00</td>\n",
       "      <td>26</td>\n",
       "      <td>0</td>\n",
       "      <td>0</td>\n",
       "    </tr>\n",
       "    <tr>\n",
       "      <th>10</th>\n",
       "      <td>19</td>\n",
       "      <td>2020-01-11 12:47:12+00:00</td>\n",
       "      <td>26</td>\n",
       "      <td>0</td>\n",
       "      <td>0</td>\n",
       "    </tr>\n",
       "  </tbody>\n",
       "</table>\n",
       "</div>"
      ],
      "text/plain": [
       "    id                      date  percent  label  probability\n",
       "0    9 2020-01-10 16:47:08+00:00       27      0            0\n",
       "1   10 2020-01-10 18:47:13+00:00       26      0            0\n",
       "2   11 2020-01-10 20:47:10+00:00       26      0            0\n",
       "3   12 2020-01-10 22:47:07+00:00       26      0            0\n",
       "4   13 2020-01-11 00:47:07+00:00       27      0            0\n",
       "5   14 2020-01-11 04:47:07+00:00       26      0            0\n",
       "6   15 2020-01-11 05:47:12+00:00       26      0            0\n",
       "7   16 2020-01-11 07:47:07+00:00       26      0            0\n",
       "8   17 2020-01-11 08:47:10+00:00       26      0            0\n",
       "9   18 2020-01-11 11:47:07+00:00       26      0            0\n",
       "10  19 2020-01-11 12:47:12+00:00       26      0            0"
      ]
     },
     "execution_count": 32,
     "metadata": {},
     "output_type": "execute_result"
    }
   ],
   "source": [
    "json_input"
   ]
  },
  {
   "cell_type": "code",
   "execution_count": 38,
   "metadata": {},
   "outputs": [],
   "source": [
    "def json_file_export(json_input):\n",
    "   probs=list(json_input['probability']) \n",
    "   labels=list(json_input['label'])\n",
    "   percent=list(json_input['percent']) \n",
    "   new_labels,new_probs=prediction(probs,labels,np.array(percent))\n",
    "   json_input['probability']=new_probs\n",
    "   json_input['label']=new_labels\n",
    "   json_input.to_json(\"result.json\")  "
   ]
  },
  {
   "cell_type": "code",
   "execution_count": 39,
   "metadata": {},
   "outputs": [
    {
     "name": "stdout",
     "output_type": "stream",
     "text": [
      "[0, 0, 0, 0, 0, 0, 0, 0, 0, 0, 0]\n",
      "[0, 0, 0, 0, 0, 0, 0, 0, 0, 0, 0]\n",
      "[0, 0, 0, 0, 0, 0, 0, 0, 0, 0, 0]\n",
      "[0, 0, 0, 0, 0, 0, 0, 0, 0, 0, 0]\n",
      "0.9977577976558519\n",
      "0.9977574224273363\n",
      "0.9978464865684509\n",
      "0.9979290847594922\n",
      "0.9980050965591714\n",
      "0.9980761642966952\n",
      "0.7990774393081665\n",
      "0.7404043674468994\n",
      "0.6665199001630148\n",
      "0.999998927116394\n",
      "0.4999518394470215\n"
     ]
    }
   ],
   "source": [
    "json_file_export(json_input)"
   ]
  },
  {
   "cell_type": "code",
   "execution_count": null,
   "metadata": {},
   "outputs": [],
   "source": []
  }
 ],
 "metadata": {
  "kernelspec": {
   "display_name": "Python 3",
   "language": "python",
   "name": "python3"
  },
  "language_info": {
   "codemirror_mode": {
    "name": "ipython",
    "version": 3
   },
   "file_extension": ".py",
   "mimetype": "text/x-python",
   "name": "python",
   "nbconvert_exporter": "python",
   "pygments_lexer": "ipython3",
   "version": "3.6.9"
  }
 },
 "nbformat": 4,
 "nbformat_minor": 2
}
